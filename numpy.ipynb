{
 "cells": [
  {
   "cell_type": "code",
   "execution_count": 1,
   "metadata": {},
   "outputs": [
    {
     "name": "stdout",
     "output_type": "stream",
     "text": [
      "<class 'numpy.ndarray'>\n",
      "[1 2 3 4 5]\n",
      "<class 'numpy.ndarray'>\n",
      "[1 2 3 4 5]\n"
     ]
    }
   ],
   "source": [
    "import numpy as np\n",
    "\n",
    "np_ar = np.array([1, 2, 3, 4, 5])\n",
    "np_artup = np.array((1, 2, 3, 4, 5))\n",
    "\n",
    "print(type(np_ar))\n",
    "print(np_ar)\n",
    "print(type(np_artup))\n",
    "print(np_artup)"
   ]
  },
  {
   "cell_type": "code",
   "execution_count": 2,
   "metadata": {},
   "outputs": [
    {
     "name": "stdout",
     "output_type": "stream",
     "text": [
      "42\n",
      "()\n"
     ]
    }
   ],
   "source": [
    "#0 d array\n",
    "arr_0 = np.array(42)\n",
    "\n",
    "print(arr_0)\n",
    "print(arr_0.shape)"
   ]
  },
  {
   "cell_type": "code",
   "execution_count": 3,
   "metadata": {},
   "outputs": [
    {
     "name": "stdout",
     "output_type": "stream",
     "text": [
      "[1 2 3]\n",
      "[2 3]\n",
      "int32\n",
      "<class 'numpy.ndarray'>\n",
      "(3,)\n"
     ]
    }
   ],
   "source": [
    "#1D array\n",
    "\n",
    "arr_1 = np.array([1,2,3])\n",
    "\n",
    "print(arr_1)\n",
    "print(arr_1[1:4])\n",
    "print(arr_1.dtype)\n",
    "print(type(arr_1))\n",
    "print(arr_1.shape)"
   ]
  },
  {
   "cell_type": "code",
   "execution_count": 20,
   "metadata": {
    "scrolled": true
   },
   "outputs": [
    {
     "name": "stdout",
     "output_type": "stream",
     "text": [
      "[[ 1 12  3  4]\n",
      " [ 4  5  6  7]]\n",
      "2nd element on 1st row:  5\n",
      "(2, 4)\n"
     ]
    }
   ],
   "source": [
    "arr_2 = np.array([\n",
    "    [1,12, 3,4], \n",
    "     [4, 5, 6,7]\n",
    "])\n",
    "\n",
    "print(arr_2)\n",
    "print('2nd element on 1st row: ', arr_2[1, 1])\n",
    "\n",
    "print(arr_2.shape)"
   ]
  },
  {
   "cell_type": "code",
   "execution_count": 6,
   "metadata": {},
   "outputs": [
    {
     "name": "stdout",
     "output_type": "stream",
     "text": [
      "[[[1 2 3]\n",
      "  [4 5 6]\n",
      "  [1 2 3]\n",
      "  [4 5 6]]]\n",
      "The shape of array is  =  (1, 4, 3)\n"
     ]
    }
   ],
   "source": [
    "arr_3 = np.array([\n",
    "    [[1, 2, 3], \n",
    "    [4, 5, 6], \n",
    "    [1, 2, 3], \n",
    "    [4, 5, 6]]\n",
    "])\n",
    "\n",
    "print(arr_3)\n",
    "\n",
    "print(\"The shape of array is  = \",arr_3.shape)"
   ]
  },
  {
   "cell_type": "code",
   "execution_count": 7,
   "metadata": {},
   "outputs": [
    {
     "name": "stdout",
     "output_type": "stream",
     "text": [
      "0\n",
      "1\n",
      "2\n",
      "3\n"
     ]
    }
   ],
   "source": [
    "print(arr_0.ndim)\n",
    "print(arr_1.ndim)\n",
    "print(arr_2.ndim)\n",
    "print(arr_3.ndim)"
   ]
  },
  {
   "cell_type": "code",
   "execution_count": 9,
   "metadata": {},
   "outputs": [
    {
     "name": "stdout",
     "output_type": "stream",
     "text": [
      "[[[[[1 2 3 4]\n",
      "    [4 5 7 9]]]]]\n",
      "number of dimensions : 5\n",
      "(1, 1, 1, 2, 4)\n"
     ]
    }
   ],
   "source": [
    "arr_n = np.array([[1, 2, 3, 4],[4,5,7,9]], ndmin=5)\n",
    "\n",
    "print(arr_n)\n",
    "print('number of dimensions :', arr_n.ndim)\n",
    "print(arr_n.shape)"
   ]
  },
  {
   "cell_type": "code",
   "execution_count": 8,
   "metadata": {},
   "outputs": [
    {
     "name": "stdout",
     "output_type": "stream",
     "text": [
      "b'1'\n"
     ]
    }
   ],
   "source": [
    "\n",
    "print(arr_1[0])"
   ]
  },
  {
   "cell_type": "code",
   "execution_count": 12,
   "metadata": {},
   "outputs": [
    {
     "name": "stdout",
     "output_type": "stream",
     "text": [
      "(3, 2)\n",
      "[[1 2 3]\n",
      " [4 5 6]]\n",
      "[1 2 3 4 5 6]\n"
     ]
    }
   ],
   "source": [
    "a = np.array([[1,2],\n",
    "              [3,4],\n",
    "              [5,6]])  \n",
    "print(a.shape)\n",
    "# print(\"printing the original array..\")  \n",
    "# print(a)  \n",
    "a=a.reshape(2,3) \n",
    "\n",
    "\n",
    "# print(\"printing the reshaped array..\")  \n",
    "print(a)  \n",
    "\n",
    "z = a.flatten()\n",
    "print(z)"
   ]
  },
  {
   "cell_type": "code",
   "execution_count": 13,
   "metadata": {},
   "outputs": [
    {
     "name": "stdout",
     "output_type": "stream",
     "text": [
      "The array: [[1 2 3]\n",
      " [4 5 6]]\n",
      "The maximum element: 6\n",
      "The minimum element: 1\n",
      "The sum of the elements: 21\n"
     ]
    }
   ],
   "source": [
    "print(\"The array:\",a)  \n",
    "print(\"The maximum element:\",a.max())  \n",
    "print(\"The minimum element:\",a.min())  \n",
    "print(\"The sum of the elements:\",a.sum())  "
   ]
  },
  {
   "cell_type": "code",
   "execution_count": 19,
   "metadata": {},
   "outputs": [
    {
     "name": "stdout",
     "output_type": "stream",
     "text": [
      "3.5\n"
     ]
    }
   ],
   "source": [
    "  \n",
    "# print(a)\n",
    "\n",
    "# print(np.sqrt(a))\n",
    "a = np.array([1,2,3,4,5,6]) \n",
    "# print(a)\n",
    "# # print(np.std(a))  \n",
    "# print(np.mean(a))\n",
    "print(np.median(a))\n"
   ]
  },
  {
   "cell_type": "code",
   "execution_count": 20,
   "metadata": {},
   "outputs": [
    {
     "name": "stdout",
     "output_type": "stream",
     "text": [
      "[1 2 3]\n",
      "int32\n"
     ]
    }
   ],
   "source": [
    "arr = np.array([1.1, 2.1, 3.1])\n",
    "\n",
    "newarr = arr.astype('i')\n",
    "\n",
    "print(newarr)\n",
    "print(newarr.dtype) "
   ]
  },
  {
   "cell_type": "code",
   "execution_count": 21,
   "metadata": {},
   "outputs": [
    {
     "name": "stdout",
     "output_type": "stream",
     "text": [
      "93\n"
     ]
    }
   ],
   "source": [
    "from numpy import random\n",
    "\n",
    "x = random.randint(100)\n",
    "\n",
    "print(x) "
   ]
  },
  {
   "cell_type": "code",
   "execution_count": 22,
   "metadata": {},
   "outputs": [
    {
     "name": "stdout",
     "output_type": "stream",
     "text": [
      "0.8639509653102473\n"
     ]
    }
   ],
   "source": [
    "x = random.rand()\n",
    "\n",
    "print(x) "
   ]
  },
  {
   "cell_type": "code",
   "execution_count": 25,
   "metadata": {},
   "outputs": [
    {
     "name": "stdout",
     "output_type": "stream",
     "text": [
      "[[[ 1  1  3 45 70]\n",
      "  [68 58 26 72 60]]\n",
      "\n",
      " [[35 22  2 25 91]\n",
      "  [ 1  4 74 60 98]]]\n"
     ]
    }
   ],
   "source": [
    "x=random.randint(100, size=(2,2,5))\n",
    "\n",
    "print(x) \n",
    "# print(type(x))"
   ]
  },
  {
   "cell_type": "code",
   "execution_count": 26,
   "metadata": {},
   "outputs": [
    {
     "name": "stdout",
     "output_type": "stream",
     "text": [
      "7\n"
     ]
    }
   ],
   "source": [
    "x = random.choice([3, 5, 7, 9])\n",
    "\n",
    "print(x) "
   ]
  },
  {
   "cell_type": "code",
   "execution_count": 28,
   "metadata": {},
   "outputs": [
    {
     "data": {
      "text/plain": [
       "array([[1, 2, 3],\n",
       "       [4, 5, 6]])"
      ]
     },
     "execution_count": 28,
     "metadata": {},
     "output_type": "execute_result"
    }
   ],
   "source": [
    "array1 = np.array([1,2,3])\n",
    "array2 = np.array([4,5,6])\n",
    "matrix1 = np.array([array1,array2])\n",
    "matrix1\n",
    "# matrix1.shape\n",
    "# print(matrix1.ndim)"
   ]
  },
  {
   "cell_type": "code",
   "execution_count": 29,
   "metadata": {},
   "outputs": [
    {
     "data": {
      "text/plain": [
       "matrix([[2, 5, 1],\n",
       "        [1, 3, 5],\n",
       "        [7, 5, 8]])"
      ]
     },
     "execution_count": 29,
     "metadata": {},
     "output_type": "execute_result"
    }
   ],
   "source": [
    "list1 = [2,5,1]\n",
    "list2 = [1,3,5]\n",
    "list3 = [7,5,8]\n",
    "\n",
    "matrix2 = np.matrix([list1,list2,list3])\n",
    "matrix2"
   ]
  },
  {
   "cell_type": "code",
   "execution_count": 30,
   "metadata": {},
   "outputs": [
    {
     "data": {
      "text/plain": [
       "matrix([[2, 1, 7],\n",
       "        [5, 3, 5],\n",
       "        [1, 5, 8]])"
      ]
     },
     "execution_count": 30,
     "metadata": {},
     "output_type": "execute_result"
    }
   ],
   "source": [
    "matrix2.T"
   ]
  },
  {
   "cell_type": "code",
   "execution_count": 31,
   "metadata": {},
   "outputs": [
    {
     "data": {
      "text/plain": [
       "matrix([[-0.00854701, -0.2991453 ,  0.18803419],\n",
       "        [ 0.23076923,  0.07692308, -0.07692308],\n",
       "        [-0.13675214,  0.21367521,  0.00854701]])"
      ]
     },
     "execution_count": 31,
     "metadata": {},
     "output_type": "execute_result"
    }
   ],
   "source": [
    "matrix2.I"
   ]
  },
  {
   "cell_type": "code",
   "execution_count": 21,
   "metadata": {},
   "outputs": [
    {
     "data": {
      "text/plain": [
       "matrix([[1.00000000e+00, 5.55111512e-17, 2.60208521e-17],\n",
       "        [0.00000000e+00, 1.00000000e+00, 2.08166817e-17],\n",
       "        [0.00000000e+00, 0.00000000e+00, 1.00000000e+00]])"
      ]
     },
     "execution_count": 21,
     "metadata": {},
     "output_type": "execute_result"
    }
   ],
   "source": [
    "matrix2 * matrix2.I"
   ]
  },
  {
   "cell_type": "code",
   "execution_count": 37,
   "metadata": {},
   "outputs": [
    {
     "data": {
      "text/plain": [
       "matrix([[ 1,  1, -1],\n",
       "        [ 1, -2,  3],\n",
       "        [ 2,  3,  1]])"
      ]
     },
     "execution_count": 37,
     "metadata": {},
     "output_type": "execute_result"
    }
   ],
   "source": [
    "import numpy as np\n",
    "# 1) x + y − z = 4\n",
    "\n",
    "# 2) x − 2y + 3z = −6\n",
    "\n",
    "# 3) 2x + 3y + z = 7\n",
    "\n",
    "left_hand_side = np.matrix([[1,1,-1], # x + y − z = 4\n",
    "                       [1,-2,3],      # x − 2y + 3z = −6\n",
    "                       [2,3,1]])      #  2x + 3y + z = 7\n",
    "left_hand_side"
   ]
  },
  {
   "cell_type": "code",
   "execution_count": 38,
   "metadata": {},
   "outputs": [
    {
     "data": {
      "text/plain": [
       "matrix([[ 4],\n",
       "        [-6],\n",
       "        [ 7]])"
      ]
     },
     "execution_count": 38,
     "metadata": {},
     "output_type": "execute_result"
    }
   ],
   "source": [
    "right_hand_side = np.matrix([[4],\n",
    "                            [-6],\n",
    "                            [7]])\n",
    "right_hand_side"
   ]
  },
  {
   "cell_type": "code",
   "execution_count": 39,
   "metadata": {},
   "outputs": [
    {
     "data": {
      "text/plain": [
       "matrix([[ 0.84615385,  0.30769231, -0.07692308],\n",
       "        [-0.38461538, -0.23076923,  0.30769231],\n",
       "        [-0.53846154,  0.07692308,  0.23076923]])"
      ]
     },
     "execution_count": 39,
     "metadata": {},
     "output_type": "execute_result"
    }
   ],
   "source": [
    "left_hand_side_inverse = left_hand_side.I\n",
    "left_hand_side_inverse"
   ]
  },
  {
   "cell_type": "code",
   "execution_count": 40,
   "metadata": {},
   "outputs": [
    {
     "data": {
      "text/plain": [
       "matrix([[ 1.],\n",
       "        [ 2.],\n",
       "        [-1.]])"
      ]
     },
     "execution_count": 40,
     "metadata": {},
     "output_type": "execute_result"
    }
   ],
   "source": [
    "solution = left_hand_side_inverse*right_hand_side\n",
    "solution"
   ]
  },
  {
   "cell_type": "code",
   "execution_count": 42,
   "metadata": {},
   "outputs": [
    {
     "data": {
      "text/plain": [
       "matrix([[-1.33226763e-15],\n",
       "        [ 0.00000000e+00],\n",
       "        [-1.77635684e-15]])"
      ]
     },
     "execution_count": 42,
     "metadata": {},
     "output_type": "execute_result"
    }
   ],
   "source": [
    "left_hand_side*solution - right_hand_side"
   ]
  },
  {
   "cell_type": "code",
   "execution_count": 47,
   "metadata": {},
   "outputs": [
    {
     "name": "stdout",
     "output_type": "stream",
     "text": [
      "[1. 1. 1.]\n"
     ]
    }
   ],
   "source": [
    "import numpy as np\n",
    "a = np.ones(3)\n",
    "print(a)"
   ]
  },
  {
   "cell_type": "code",
   "execution_count": 48,
   "metadata": {},
   "outputs": [
    {
     "data": {
      "text/plain": [
       "[array([1, 2]), array([3, 4]), array([5, 6])]"
      ]
     },
     "execution_count": 48,
     "metadata": {},
     "output_type": "execute_result"
    }
   ],
   "source": [
    "\n",
    "arr = np.array([1, 2, 3, 4, 5, 6])\n",
    "\n",
    "newarr = np.array_split(arr, 3)\n",
    "newarr"
   ]
  },
  {
   "cell_type": "code",
   "execution_count": 49,
   "metadata": {},
   "outputs": [
    {
     "name": "stdout",
     "output_type": "stream",
     "text": [
      "[array([[1, 2],\n",
      "       [3, 4]]), array([[5, 6],\n",
      "       [7, 8]]), array([[ 9, 10],\n",
      "       [11, 12]])]\n"
     ]
    }
   ],
   "source": [
    "arr = np.array([[1, 2], [3, 4], [5, 6], [7, 8], [9, 10], [11, 12]])\n",
    "\n",
    "newarr = np.array_split(arr, 3)\n",
    "\n",
    "print(newarr)"
   ]
  },
  {
   "cell_type": "code",
   "execution_count": 50,
   "metadata": {},
   "outputs": [
    {
     "name": "stdout",
     "output_type": "stream",
     "text": [
      "[array([[1],\n",
      "       [3]]), array([[2],\n",
      "       [4]])]\n"
     ]
    }
   ],
   "source": [
    "# arr = np.array([[1, 2, 3], [4, 5, 6], [7, 8, 9], [10, 11, 12], [13, 14, 15], [16, 17, 18]])\n",
    "arr = np.array([[1,2,],[3,4]])\n",
    "newarr = np.array_split(arr, 2,axis = 1)\n",
    "\n",
    "print(newarr) "
   ]
  },
  {
   "cell_type": "code",
   "execution_count": 51,
   "metadata": {},
   "outputs": [
    {
     "name": "stdout",
     "output_type": "stream",
     "text": [
      "(array([3, 5, 6], dtype=int64),)\n"
     ]
    }
   ],
   "source": [
    "arr = np.array([1, 2, 3, 4, 5, 4, 4])\n",
    "\n",
    "x = np.where(arr == 4)\n",
    "\n",
    "print(x)"
   ]
  },
  {
   "cell_type": "code",
   "execution_count": 52,
   "metadata": {},
   "outputs": [
    {
     "name": "stdout",
     "output_type": "stream",
     "text": [
      "(array([0, 2, 4, 6], dtype=int64),)\n"
     ]
    }
   ],
   "source": [
    "arr = np.array([1, 2, 3, 4, 5, 6, 7, 8])\n",
    "\n",
    "x = np.where(arr%2 != 0)\n",
    "\n",
    "print(x)"
   ]
  },
  {
   "cell_type": "code",
   "execution_count": 68,
   "metadata": {},
   "outputs": [
    {
     "name": "stdout",
     "output_type": "stream",
     "text": [
      "3\n"
     ]
    }
   ],
   "source": [
    "arr = np.array([3,1,2,4])\n",
    "\n",
    "x = np.searchsorted(arr,3)\n",
    "\n",
    "print(x)\n",
    "\n",
    "# 1,2,3,4"
   ]
  },
  {
   "cell_type": "code",
   "execution_count": 80,
   "metadata": {},
   "outputs": [
    {
     "name": "stdout",
     "output_type": "stream",
     "text": [
      "2\n"
     ]
    }
   ],
   "source": [
    "arr = np.array([6, 7, 8, 9])\n",
    "\n",
    "x = np.searchsorted(arr, 7, side='right')\n",
    "\n",
    "print(x)"
   ]
  },
  {
   "cell_type": "code",
   "execution_count": 3,
   "metadata": {},
   "outputs": [
    {
     "name": "stderr",
     "output_type": "stream",
     "text": [
      "C:\\Users\\Aman\\anaconda3\\lib\\site-packages\\seaborn\\distributions.py:2551: FutureWarning: `distplot` is a deprecated function and will be removed in a future version. Please adapt your code to use either `displot` (a figure-level function with similar flexibility) or `histplot` (an axes-level function for histograms).\n",
      "  warnings.warn(msg, FutureWarning)\n"
     ]
    },
    {
     "data": {
      "image/png": "[encoded data removed]",
      "text/plain": [
       "<Figure size 432x288 with 1 Axes>"
      ]
     },
     "metadata": {
      "needs_background": "light"
     },
     "output_type": "display_data"
    }
   ],
   "source": [
    "import matplotlib.pyplot as plt\n",
    "import seaborn as sns\n",
    "\n",
    "sns.distplot([0, 1, 2, 3, 2, 2])\n",
    "\n",
    "plt.show()"
   ]
  },
  {
   "cell_type": "code",
   "execution_count": 4,
   "metadata": {},
   "outputs": [
    {
     "name": "stderr",
     "output_type": "stream",
     "text": [
      "C:\\Users\\Aman\\anaconda3\\lib\\site-packages\\seaborn\\distributions.py:2551: FutureWarning: `distplot` is a deprecated function and will be removed in a future version. Please adapt your code to use either `displot` (a figure-level function with similar flexibility) or `kdeplot` (an axes-level function for kernel density plots).\n",
      "  warnings.warn(msg, FutureWarning)\n"
     ]
    },
    {
     "data": {
      "image/png": "[encoded data removed]",
      "text/plain": [
       "<Figure size 432x288 with 1 Axes>"
      ]
     },
     "metadata": {
      "needs_background": "light"
     },
     "output_type": "display_data"
    }
   ],
   "source": [
    "\n",
    "\n",
    "sns.distplot([0, 1, 2, 3, 4, 5], hist=False)\n",
    "\n",
    "plt.show() "
   ]
  },
  {
   "cell_type": "code",
   "execution_count": 83,
   "metadata": {},
   "outputs": [
    {
     "data": {
      "text/plain": [
       "array([ 0,  1,  2,  3,  4,  5, 30, 35, 40, 45, 50, 55])"
      ]
     },
     "execution_count": 83,
     "metadata": {},
     "output_type": "execute_result"
    }
   ],
   "source": [
    "# a=np.arange(12)  \n",
    "# b=np.where(a<6,a,5*a)  \n",
    "# b  "
   ]
  },
  {
   "cell_type": "code",
   "execution_count": 7,
   "metadata": {},
   "outputs": [
    {
     "name": "stdout",
     "output_type": "stream",
     "text": [
      "B\n",
      " [ 2  2  2  2  2  2  2  2  3  3  3  3  3  4  4  4  4  5  5  5  6  6  6  7\n",
      "  7  8  8  9  9 10 10 11 12 12 13 14 15 16 17 18 19 20 21 22 24 25 27 28\n",
      " 30 32]\n"
     ]
    }
   ],
   "source": [
    "import numpy as np\n",
    " \n",
    "# base = 11\n",
    "print(\"B\\n\", np.logspace(1, 5, base = 2,dtype = int))\n",
    " \n",
    "# # base = 10\n",
    "# print(\"B\\n\", np.logspace(2.0, 3.0, num=5))\n",
    " \n",
    "# # base = 10, dtype = int\n",
    "# print(\"B\\n\", np.logspace(2.0, 3.0, num=5, dtype = int))"
   ]
  },
  {
   "cell_type": "code",
   "execution_count": 9,
   "metadata": {},
   "outputs": [
    {
     "name": "stdout",
     "output_type": "stream",
     "text": [
      "B\n",
      " (array([2.  , 2.25, 2.5 , 2.75, 3.  ]), 0.25) \n",
      "\n"
     ]
    }
   ],
   "source": [
    "print(\"B\\n\", np.linspace(2.0, 3.0, num=5, retstep=True), \"\\n\")\n",
    " \n",
    "# To evaluate sin() in long range\n",
    "# x = np.linspace(0, 2, 10)\n",
    "# print(\"A\\n\", np.sin(x))"
   ]
  },
  {
   "cell_type": "code",
   "execution_count": 10,
   "metadata": {},
   "outputs": [
    {
     "data": {
      "text/plain": [
       "array([1, 7, 0, 6, 2, 5, 6])"
      ]
     },
     "execution_count": 10,
     "metadata": {},
     "output_type": "execute_result"
    }
   ],
   "source": [
    "# initializing list\n",
    "lst = [1, 7, 0, 6, 2, 5, 6]\n",
    " \n",
    "# converting list to array\n",
    "arr = np.array(lst)\n",
    "arr"
   ]
  },
  {
   "cell_type": "code",
   "execution_count": 8,
   "metadata": {},
   "outputs": [
    {
     "name": "stdout",
     "output_type": "stream",
     "text": [
      "A\n",
      " [[0 1]\n",
      " [2 3]] \n",
      "\n",
      "A\n",
      " [4 5 6 7 8 9] \n",
      "\n",
      "A\n",
      " [ 4  7 10 13 16 19] \n",
      "\n"
     ]
    }
   ],
   "source": [
    "print(\"A\\n\", np.arange(4).reshape(2, 2), \"\\n\")\n",
    "print(\"A\\n\", np.arange(4, 10), \"\\n\")\n",
    "print(\"A\\n\", np.arange(4, 20, 3), \"\\n\")"
   ]
  },
  {
   "cell_type": "code",
   "execution_count": 15,
   "metadata": {},
   "outputs": [
    {
     "name": "stdout",
     "output_type": "stream",
     "text": [
      "[3 3 3 3 3]\n"
     ]
    }
   ],
   "source": [
    "a = [1, 1, 1 ,1, 1]\n",
    "ar = np.array(a)\n",
    "print(ar + 2)"
   ]
  },
  {
   "cell_type": "code",
   "execution_count": 11,
   "metadata": {},
   "outputs": [
    {
     "name": "stdout",
     "output_type": "stream",
     "text": [
      "[0 6]\n",
      "[1 5]\n"
     ]
    }
   ],
   "source": [
    "row_wise = np.sum([[0, 1], [0, 5]], axis=0)\n",
    "\n",
    "col_wise = np.sum([[0, 1], [0, 5]], axis=1)\n",
    "print(row_wise)\n",
    "print(col_wise)"
   ]
  },
  {
   "cell_type": "code",
   "execution_count": 41,
   "metadata": {},
   "outputs": [
    {
     "name": "stdout",
     "output_type": "stream",
     "text": [
      "4 1 0 2\n"
     ]
    }
   ],
   "source": [
    "arr = np.array([1,2,4,3])\n",
    "m = np.max(arr)\n",
    "\n",
    "mi = np.min(arr)\n",
    "\n",
    "arg =np.argmin(arr)\n",
    "\n",
    "arg_max =np.argmax(arr)\n",
    "\n",
    "print(m,mi,arg,arg_max)"
   ]
  },
  {
   "cell_type": "code",
   "execution_count": 12,
   "metadata": {},
   "outputs": [
    {
     "data": {
      "text/plain": [
       "array([0, 1, 2, 5, 6, 6, 7])"
      ]
     },
     "execution_count": 12,
     "metadata": {},
     "output_type": "execute_result"
    }
   ],
   "source": [
    "c = np.sort(arr)\n",
    "c"
   ]
  },
  {
   "cell_type": "code",
   "execution_count": 16,
   "metadata": {},
   "outputs": [
    {
     "data": {
      "text/plain": [
       "array([2, 1, 3, 4, 5])"
      ]
     },
     "execution_count": 16,
     "metadata": {},
     "output_type": "execute_result"
    }
   ],
   "source": [
    "arr = np.array([2,1,3,4])\n",
    "n = np.append(arr,5)\n",
    "n\n"
   ]
  },
  {
   "cell_type": "code",
   "execution_count": 21,
   "metadata": {},
   "outputs": [
    {
     "data": {
      "text/plain": [
       "array([10,  2,  1,  3,  4])"
      ]
     },
     "execution_count": 21,
     "metadata": {},
     "output_type": "execute_result"
    }
   ],
   "source": [
    "z = np.insert(arr,0,10)\n",
    "z"
   ]
  },
  {
   "cell_type": "code",
   "execution_count": 22,
   "metadata": {},
   "outputs": [
    {
     "data": {
      "text/plain": [
       "array([2, 1, 3, 4])"
      ]
     },
     "execution_count": 22,
     "metadata": {},
     "output_type": "execute_result"
    }
   ],
   "source": [
    "c = np.delete(z,0)\n",
    "c"
   ]
  },
  {
   "cell_type": "code",
   "execution_count": 27,
   "metadata": {},
   "outputs": [
    {
     "name": "stdout",
     "output_type": "stream",
     "text": [
      "resultant array [[ 1  2  3]\n",
      " [45  4  7]\n",
      " [ 9  6 10]\n",
      " [ 1  2  3]]\n"
     ]
    }
   ],
   "source": [
    "narray = np.array([\n",
    "    [1, 2, 3], \n",
    "    [45, 4, 7],\n",
    "    [9, 6, 10]\n",
    "])\n",
    "\n",
    "\n",
    "\n",
    "x = np.array([1, 2, 3])\n",
    "\n",
    "\n",
    "\n",
    "# result = np.hstack((narray, np.atleast_2d(x).T))\n",
    "# Adding row to numpy array\n",
    "result = np.vstack ((narray, x) )\n",
    "print (\"resultant array\", str(result))"
   ]
  },
  {
   "cell_type": "code",
   "execution_count": 37,
   "metadata": {},
   "outputs": [
    {
     "name": "stdout",
     "output_type": "stream",
     "text": [
      "data  after 0 th row deleted : [[ 1  2  3  4]\n",
      " [ 9 10 11 12]]\n"
     ]
    }
   ],
   "source": [
    "a = np.array([[1, 2, 3, 4],\n",
    "              [5, 6, 7, 8], \n",
    "              [9, 10, 11, 12]])\n",
    "# print(a)\n",
    "  \n",
    "# delete 0 th row\n",
    "# data = np.delete(a, 0, 0)\n",
    "print(\"data  after 0 th row deleted :\", data)\n",
    "  \n",
    "# # delete 1 st row\n",
    "data = np.delete(a, 1, 0)\n",
    "# print(\"data  after 1 st  row deleted :\", data)\n",
    "  \n",
    "# # delete 2 nd row\n",
    "# data = np.delete(a, 2, 0)\n",
    "# print(\"data  after 2 nd  row deleted :\", data)"
   ]
  },
  {
   "cell_type": "code",
   "execution_count": 40,
   "metadata": {},
   "outputs": [
    {
     "name": "stdout",
     "output_type": "stream",
     "text": [
      "1\n",
      "2\n",
      "3\n",
      "4\n",
      "5\n",
      "6\n",
      "7\n",
      "8\n",
      "9\n",
      "10\n",
      "11\n",
      "12\n"
     ]
    }
   ],
   "source": [
    "for x in a:\n",
    "    for i in x:\n",
    "        print(i)"
   ]
  },
  {
   "cell_type": "code",
   "execution_count": null,
   "metadata": {},
   "outputs": [],
   "source": []
  }
 ],
 "metadata": {
  "kernelspec": {
   "display_name": "Python 3",
   "language": "python",
   "name": "python3"
  },
  "language_info": {
   "codemirror_mode": {
    "name": "ipython",
    "version": 3
   },
   "file_extension": ".py",
   "mimetype": "text/x-python",
   "name": "python",
   "nbconvert_exporter": "python",
   "pygments_lexer": "ipython3",
   "version": "3.8.5"
  }
 },
 "nbformat": 4,
 "nbformat_minor": 4
}
